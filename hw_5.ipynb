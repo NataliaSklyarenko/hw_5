{
 "cells": [
  {
   "cell_type": "code",
   "execution_count": null,
   "metadata": {},
   "outputs": [],
   "source": [
    "import pandas as pd\n",
    "import numpy as np\n",
    "from sklearn.model_selection import train_test_split\n",
    "from sklearn.preprocessing import StandardScaler\n",
    "from sklearn.svm import SVC\n",
    "from sklearn.metrics import classification_report\n",
    "from sklearn.ensemble import RandomForestClassifier\n",
    "\n",
    "# Завантаження даних\n",
    "df = pd.read_csv('walking_1.csv')\n",
    "\n",
    "# Виведення перших 5 рядків таблиці\n",
    "print(df.head())\n",
    "\n",
    "# Видалення пропущених значень, якщо такі є\n",
    "df.dropna(inplace=True)\n",
    "\n",
    "# Виділення характеристик та міток\n",
    "X = df.drop('activity', axis=1)\n",
    "y = df['activity']\n",
    "\n",
    "# Розподіл даних на тренувальний та тестовий набори\n",
    "X_train, X_test, y_train, y_test = train_test_split(X, y, test_size=0.2, random_state=42)\n",
    "\n",
    "# Стандартизація даних\n",
    "scaler = StandardScaler()\n",
    "X_train = scaler.fit_transform(X_train)\n",
    "X_test = scaler.transform(X_test)\n",
    "\n",
    "\n",
    "# Навчання моделі SVM\n",
    "svm_model = SVC(kernel='linear')\n",
    "svm_model.fit(X_train, y_train)\n",
    "\n",
    "# Передбачення\n",
    "y_pred_svm = svm_model.predict(X_test)\n",
    "\n",
    "# Оцінка моделі\n",
    "print(\"SVM Classification Report\")\n",
    "print(classification_report(y_test, y_pred_svm))\n",
    "\n",
    "# Навчання моделі випадкового лісу\n",
    "rf_model = RandomForestClassifier(n_estimators=100, random_state=42)\n",
    "rf_model.fit(X_train, y_train)\n",
    "\n",
    "# Передбачення\n",
    "y_pred_rf = rf_model.predict(X_test)\n",
    "\n",
    "# Оцінка моделі\n",
    "print(\"Random Forest Classification Report\")\n",
    "print(classification_report(y_test, y_pred_rf))\n",
    "\n",
    "\n",
    "\n"
   ]
  }
 ],
 "metadata": {
  "kernelspec": {
   "display_name": "Python 3",
   "language": "python",
   "name": "python3"
  },
  "language_info": {
   "name": "python",
   "version": "3.12.3"
  }
 },
 "nbformat": 4,
 "nbformat_minor": 2
}
